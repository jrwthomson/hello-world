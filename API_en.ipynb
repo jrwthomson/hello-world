{
  "cells": [
    {
      "cell_type": "code",
      "execution_count": null,
      "metadata": {
        "id": "u-OVQoa8M4IT"
      },
      "outputs": [],
      "source": [
        "import requests #need this to interact with the API\n",
        "import json #need this to help with formatting the repsonse\n",
        "from pprint import pprint #will make things easier for us to read\n",
        "import time #will allow us to introduce time delays in our program"
      ]
    },
    {
      "cell_type": "code",
      "execution_count": null,
      "metadata": {
        "id": "1SAgY__YM4IW"
      },
      "outputs": [],
      "source": [
        "#https://github.com/public-apis/public-apis/blob/master/README.md\n",
        "\n",
        "base_url = \"https://excuser.herokuapp.com/v1\" # this is the base URL for the site\n",
        "requests.get(base_url) #try a request"
      ]
    },
    {
      "cell_type": "code",
      "execution_count": null,
      "metadata": {
        "id": "mtqHIQBdM4IX"
      },
      "outputs": [],
      "source": [
        "random_excuse = requests.get(base_url+\"/excuse\") #try a request from the \"excuse\" endpoint"
      ]
    },
    {
      "cell_type": "code",
      "execution_count": null,
      "metadata": {
        "id": "L53xJ3nNM4IX"
      },
      "outputs": [],
      "source": [
        "random_excuse.status_code #this gives us the status code of the request"
      ]
    },
    {
      "cell_type": "code",
      "execution_count": null,
      "metadata": {
        "id": "n5b4ldx_M4IY"
      },
      "outputs": [],
      "source": [
        "random_excuse.headers #this will give us the headers of the request"
      ]
    },
    {
      "cell_type": "code",
      "execution_count": null,
      "metadata": {
        "id": "Ycpj7QPtM4IY"
      },
      "outputs": [],
      "source": [
        "random_excuse.text #this gives us the text of the data, plus some other info"
      ]
    },
    {
      "cell_type": "code",
      "execution_count": null,
      "metadata": {
        "id": "w27Ss_hIM4IZ"
      },
      "outputs": [],
      "source": [
        "random_excuse.json() # see the results"
      ]
    },
    {
      "cell_type": "code",
      "execution_count": null,
      "metadata": {
        "id": "MK_1M8ZoM4IZ"
      },
      "outputs": [],
      "source": [
        "many_excuses = requests.get(base_url+\"/excuse/10\") #try the exuse endpoint with a number condition\n",
        "many_excuses.json() #see the results"
      ]
    },
    {
      "cell_type": "code",
      "execution_count": null,
      "metadata": {
        "id": "GJwEk30zM4IZ"
      },
      "outputs": [],
      "source": [
        "base_url_met = \"https://collectionapi.metmuseum.org/public/collection/v1\"\n",
        "ocean_obj = requests.get(base_url_met+\"/search?q=ocean&medium=Sculpture\")\n",
        "#try a request from the /search endpoint with several conditions in dictionary form\n",
        "ocean_obj.json() #show the result as a dictionary"
      ]
    },
    {
      "cell_type": "code",
      "execution_count": null,
      "metadata": {
        "id": "cgZb-UWLM4Ia"
      },
      "outputs": [],
      "source": [
        "search_cond = {'q' : 'ocean', 'medium' : 'Sculpture'}\n",
        "ocean_obj2 = requests.get(base_url_met+\"/search\", params=search_cond) \n",
        "#try a request from the /search endpoint with several conditions in dictionary form\n",
        "pprint(ocean_obj.json()) #pretty print the result as a dictionary"
      ]
    },
    {
      "cell_type": "code",
      "execution_count": null,
      "metadata": {
        "id": "kRQyK7Q3M4Ib"
      },
      "outputs": [],
      "source": [
        "print(ocean_obj.url) #print the url that is being used in the query"
      ]
    },
    {
      "cell_type": "code",
      "execution_count": null,
      "metadata": {
        "id": "NSznCeYXM4Ib"
      },
      "outputs": [],
      "source": [
        "list_ids = ocean_obj.json()['objectIDs']\n",
        "print(list_ids)"
      ]
    },
    {
      "cell_type": "code",
      "execution_count": null,
      "metadata": {
        "id": "fod6X-_nM4Ib",
        "outputId": "0f961693-b2c2-4af0-add6-7bf7e4ba166d"
      },
      "outputs": [
        {
          "name": "stdout",
          "output_type": "stream",
          "text": [
            "(207028, 'Bather')\n",
            "(207024, 'Nude Women Wrestling')\n",
            "(207006, 'The Crucified Christ: Corpus from a Cross')\n",
            "(12012, 'Mrs. Schuyler Van Rensselaer (Mariana Griswold)')\n",
            "(236118, 'Model for the so-called \"Female Saint of Starnberg\"')\n",
            "(748804, 'Bearded Man on a Donkey accompanied by Four Boys (The Song of Silenus?)')\n",
            "(236688, 'A Hypocrite and a Slanderer')\n",
            "(248895, 'Marble head of a youth')\n",
            "(465981, 'Pendant Medallion with Michael Slaying the Dragon')\n",
            "(197469, 'Saint Agnes (one of a pair)')\n",
            "(206918, 'Striding Pan')\n",
            "(256403, 'Marble Statue Group of the Three Graces')\n",
            "(311024, 'Memorial Head (Nsodie)')\n",
            "(254855, 'Marble sarcophagus with flying erotes holding a clipeus portrait')\n",
            "(11791, 'Fisher Boy')\n",
            "(207780, 'Advertisement for Muller Stoneware Manufactory')\n",
            "(471884, 'Saint James the Greater')\n",
            "(247506, 'Terracotta statuette of a woman')\n",
            "(241326, 'Terracotta horse and rider')\n",
            "(254502, 'Bronze statue of Eros sleeping')\n",
            "(547907, 'Harpokrates with double crown, cornucopia, and pot')\n",
            "(241195, 'Terracotta figure')\n",
            "(249180, 'Ivory statuette of a reclining woman')\n",
            "(208538, 'Alexander Danilovich Menshikov (1673–1729)')\n",
            "(195779, 'Saint Jerome (one of a pair)')\n",
            "(248658, 'Bronze statuette of Aphrodite')\n",
            "(192729, 'Triton')\n",
            "(544202, 'Statuette of Merer')\n",
            "(198274, \"Cosimo de' Medici (1519–1574), Duke of Florence and Grand Duke of Tuscany\")\n",
            "(313658, 'Female figure (’otua fefine)')\n",
            "(204812, 'Ugolino and His Sons')\n",
            "(62111, 'Jade Polishing Medium')\n",
            "(201862, 'Paris')\n",
            "(204722, 'Virgin and Child in a niche')\n",
            "(312290, 'Head of an Oba')\n",
            "(464006, 'Virgin and Child')\n",
            "(714463, 'Pope Pius VI on Horseback')\n",
            "(713073, 'Adoration of the Magi')\n",
            "(253504, 'Bronze statuette of Aphrodite')\n",
            "(194443, 'River God (one of a pair)')\n",
            "(194442, 'River God (one of a pair)')\n",
            "(78192, 'The Spiritual Master Padmasambhava')\n",
            "(309404, 'Monumental Figure')\n",
            "(257603, 'Marble head of a Ptolemaic queen')\n",
            "(207405, 'Model for a Papal monument')\n",
            "(49257, 'Shō Kannon')\n",
            "(707475, 'The Last Kiss of Romeo and Juliet')\n",
            "(317804, 'Club Head')\n",
            "(314779, 'Fragment of a Zoomorphic Figure')\n",
            "(310515, 'Howling Canine')\n",
            "(313256, 'Mirror-Bearer')\n",
            "(313240, 'Relief with Enthroned Ruler')\n",
            "(314778, 'Zoomorphic Figure')\n",
            "(464168, 'Virgin and Child')\n",
            "(451909, 'Standing Figure with Jeweled Headdress')\n",
            "(187522, 'Sir John Pope Hennessy (K.C.M.G.), Governor of Mauritius')\n",
            "(59399, 'Netsuke of Ashinaga and Tenaga with an Octopus')\n",
            "(313385, 'Axe')\n",
            "(206566, 'John Barnard')\n",
            "(204852, 'Resting Hercules')\n",
            "(330019, 'Bronze statuette of a kore')\n",
            "(330039, 'Bronze statuette of a draped maiden')\n",
            "(734360, 'Valentine')\n",
            "(310473, 'Hunchback Leaning on Staff')\n",
            "(812102, 'Memorial head')\n",
            "(320598, 'Memorial Head (Nsodie)')\n",
            "(317803, 'Bird Figure')\n",
            "(316643, 'Head')\n",
            "(316642, 'Standing Figure')\n",
            "(318953, 'Female Figure')\n",
            "(824207, 'Male Reliquary Figure')\n",
            "(372901, \"The Butcher's Dog\")\n",
            "(372878, \"The Butcher's Dog\")\n",
            "(194838, 'Prudence')\n",
            "(310644, 'Scepter with Profile Figures')\n",
            "(454621, 'Standing Figure with Feathered Headdress')\n",
            "(705433, 'Enthroned Buddha Finial')\n",
            "(450483, 'Head of a Central Asian Figure in a Pointed Cap')\n",
            "(207636, 'Temperance')\n",
            "(314224, 'Stela')\n",
            "(211389, 'Mounted Hussar')\n",
            "(308732, 'Figure of an Owl')\n",
            "(310540, 'Column, Costumed Figure')\n",
            "(318322, 'Figure: Saint Anthony (Toni Malau)')\n",
            "(307606, 'Seated Deity (Macuilcoatl)')\n",
            "(823815, 'Firmin Didot (1764-1836)')\n",
            "(206836, 'The Flood')\n",
            "(200723, 'Tarquin and Lucretia')\n",
            "(313223, 'Funerary Staff')\n",
            "(313224, 'Funerary Staffs')\n",
            "(318330, 'Cross: Saint Anthony of Padua')\n",
            "(318317, 'Pendant: Saint Anthony of Padua')\n",
            "(312915, 'Young Corn Deity')\n",
            "(310551, 'Censer Support')\n",
            "(313325, 'Ceremonial Handle (?)')\n",
            "(310480, 'Head of a Rain God')\n",
            "(318318, 'Prestige Staff: Saint Anthony of Padua')\n",
            "(313262, 'Deity Figure')\n",
            "(313844, \"Stick God (Akua Ka'ai)\")\n",
            "(664761, 'Head of a Central Asian Figure')\n"
          ]
        }
      ],
      "source": [
        "ocean_rep = {}\n",
        "for item in list_ids:\n",
        "    resp = requests.get(base_url_met+\"/objects/\"+str(item))\n",
        "    d= resp.json()\n",
        "    ocean_rep.update({(item, d['title']) : d})\n",
        "    print((item, d['title']))\n",
        "    time.sleep(.25)"
      ]
    },
    {
      "cell_type": "code",
      "execution_count": null,
      "metadata": {
        "id": "7D-wR0RPM4Ic",
        "outputId": "c77d4373-a018-4569-fc2d-7ab2e0b16162"
      },
      "outputs": [
        {
          "name": "stdout",
          "output_type": "stream",
          "text": [
            "{'GalleryNumber': '162',\n",
            " 'accessionNumber': '2010.260',\n",
            " 'accessionYear': '2010',\n",
            " 'additionalImages': ['https://images.metmuseum.org/CRDImages/gr/original/DP222665.jpg'],\n",
            " 'artistAlphaSort': '',\n",
            " 'artistBeginDate': '',\n",
            " 'artistDisplayBio': '',\n",
            " 'artistDisplayName': '',\n",
            " 'artistEndDate': '',\n",
            " 'artistGender': '',\n",
            " 'artistNationality': '',\n",
            " 'artistPrefix': '',\n",
            " 'artistRole': '',\n",
            " 'artistSuffix': '',\n",
            " 'artistULAN_URL': '',\n",
            " 'artistWikidata_URL': '',\n",
            " 'city': '',\n",
            " 'classification': 'Stone Sculpture',\n",
            " 'constituents': None,\n",
            " 'country': '',\n",
            " 'county': '',\n",
            " 'creditLine': 'Purchase, Philodoroi, Lila Acheson Wallace, Mary and Michael '\n",
            "               'Jaharis, Annette and Oscar de la Renta, Leon Levy Foundation, '\n",
            "               'The Robert A. and Renée E. Belfer Family Foundation, Mr. and '\n",
            "               'Mrs. John A. Moran, Jeannette and Jonathan Rosen, Malcolm '\n",
            "               'Hewitt Wiener Foundation and Nicholas S. Zoullas Gifts, 2010',\n",
            " 'culture': 'Roman',\n",
            " 'department': 'Greek and Roman Art',\n",
            " 'dimensions': 'Overall: 48 7/16 x 39 3/8in. (123 x 100cm)',\n",
            " 'dynasty': '',\n",
            " 'excavation': '',\n",
            " 'geographyType': '',\n",
            " 'isHighlight': True,\n",
            " 'isPublicDomain': True,\n",
            " 'isTimelineWork': True,\n",
            " 'linkResource': '',\n",
            " 'locale': '',\n",
            " 'locus': '',\n",
            " 'measurements': [{'elementDescription': None,\n",
            "                   'elementMeasurements': {'Height': 123.01, 'Width': 100},\n",
            "                   'elementName': 'Overall'}],\n",
            " 'medium': 'Marble',\n",
            " 'metadataDate': '2021-10-22T04:39:26.393Z',\n",
            " 'objectBeginDate': 100,\n",
            " 'objectDate': '2nd century A.D.',\n",
            " 'objectEndDate': 199,\n",
            " 'objectID': 256403,\n",
            " 'objectName': 'Statue group of the Three Graces',\n",
            " 'objectURL': 'https://www.metmuseum.org/art/collection/search/256403',\n",
            " 'objectWikidata_URL': 'https://www.wikidata.org/wiki/Q29383965',\n",
            " 'period': 'Imperial',\n",
            " 'portfolio': '',\n",
            " 'primaryImage': 'https://images.metmuseum.org/CRDImages/gr/original/DP222664.jpg',\n",
            " 'primaryImageSmall': 'https://images.metmuseum.org/CRDImages/gr/web-large/DP222664.jpg',\n",
            " 'region': '',\n",
            " 'reign': '',\n",
            " 'repository': 'Metropolitan Museum of Art, New York, NY',\n",
            " 'rightsAndReproduction': '',\n",
            " 'river': '',\n",
            " 'state': '',\n",
            " 'subregion': '',\n",
            " 'tags': [{'AAT_URL': 'http://vocab.getty.edu/page/aat/300189568',\n",
            "           'Wikidata_URL': 'https://www.wikidata.org/wiki/Q40446',\n",
            "           'term': 'Female Nudes'}],\n",
            " 'title': 'Marble Statue Group of the Three Graces'}\n"
          ]
        }
      ],
      "source": [
        "pprint(ocean_rep[(256403, 'Marble Statue Group of the Three Graces')])"
      ]
    },
    {
      "cell_type": "code",
      "execution_count": null,
      "metadata": {
        "id": "lbOg9pwHM4Id"
      },
      "outputs": [],
      "source": [
        ""
      ]
    }
  ],
  "metadata": {
    "kernelspec": {
      "display_name": "Python 3",
      "language": "python",
      "name": "python3"
    },
    "language_info": {
      "codemirror_mode": {
        "name": "ipython",
        "version": 3
      },
      "file_extension": ".py",
      "mimetype": "text/x-python",
      "name": "python",
      "nbconvert_exporter": "python",
      "pygments_lexer": "ipython3",
      "version": "3.7.6"
    },
    "colab": {
      "name": "API_en.ipynb",
      "provenance": []
    }
  },
  "nbformat": 4,
  "nbformat_minor": 0
}